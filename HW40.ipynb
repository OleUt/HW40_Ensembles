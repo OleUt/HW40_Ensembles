{
 "cells": [
  {
   "cell_type": "code",
   "execution_count": 1,
   "id": "95005a78",
   "metadata": {},
   "outputs": [],
   "source": [
    "import pandas as pd\n",
    "from sklearn import datasets\n",
    "from sklearn.datasets import load_breast_cancer\n",
    "# from sklearn.model_selection import cross_val_score\n",
    "from sklearn.model_selection import train_test_split, RepeatedStratifiedKFold\n",
    "\n",
    "from sklearn.ensemble import StackingClassifier\n",
    "from sklearn.ensemble import BaggingClassifier\n",
    "from sklearn.ensemble import AdaBoostClassifier\n",
    "\n",
    "from sklearn.linear_model import LogisticRegression\n",
    "from sklearn.tree import DecisionTreeClassifier\n",
    "from sklearn.svm import SVC\n",
    "\n",
    "import warnings\n",
    "warnings.filterwarnings('ignore')"
   ]
  },
  {
   "cell_type": "code",
   "execution_count": 2,
   "id": "278a194f",
   "metadata": {},
   "outputs": [],
   "source": [
    "d = datasets.load_breast_cancer()\n",
    "\n",
    "data = pd.DataFrame(data = d.data, columns = d.feature_names)\n",
    "data['target'] = pd.DataFrame(data = d.target)\n",
    "\n",
    "X = data.drop('target', axis=1)\n",
    "y = data[['target']]\n",
    "\n",
    "X_train, X_test, y_train, y_test = train_test_split(X, y, test_size = 0.3, shuffle=True, random_state=3)"
   ]
  },
  {
   "cell_type": "code",
   "execution_count": 3,
   "id": "7b4ca250",
   "metadata": {},
   "outputs": [
    {
     "name": "stdout",
     "output_type": "stream",
     "text": [
      "0.935672514619883\n"
     ]
    }
   ],
   "source": [
    "# Stacking\n",
    "\n",
    "def get_stacking():\n",
    "    level0 = list()\n",
    "    level0.append(('lgr', LogisticRegression()))\n",
    "    level0.append(('dtc', DecisionTreeClassifier()))\n",
    "    level1 = SVC()\n",
    "    model = StackingClassifier(estimators=level0, final_estimator=level1)\n",
    "    return model\n",
    "\n",
    "model_StClf = get_stacking()\n",
    "model_StClf.fit(X_train, y_train)\n",
    "print(model_StClf.score(X_test, y_test))                "
   ]
  },
  {
   "cell_type": "code",
   "execution_count": 4,
   "id": "9439db7c",
   "metadata": {},
   "outputs": [
    {
     "name": "stdout",
     "output_type": "stream",
     "text": [
      "0.9473684210526315\n"
     ]
    }
   ],
   "source": [
    "# Bagging\n",
    "\n",
    "model_BagClf = BaggingClassifier(base_estimator=DecisionTreeClassifier(), n_estimators=30, random_state=1)\n",
    "model_BagClf.fit(X_train, y_train)\n",
    "print(model_BagClf.score(X_test, y_test))"
   ]
  },
  {
   "cell_type": "code",
   "execution_count": 5,
   "id": "c385ba9c",
   "metadata": {},
   "outputs": [
    {
     "name": "stdout",
     "output_type": "stream",
     "text": [
      "0.9415204678362573\n"
     ]
    }
   ],
   "source": [
    "# Adoptive Boosting\n",
    "\n",
    "model_ABoost_Clf = AdaBoostClassifier(base_estimator=LogisticRegression(), n_estimators=10, random_state=1)\n",
    "model_ABoost_Clf.fit(X_train, y_train)\n",
    "print(model_ABoost_Clf.score(X_test, y_test))"
   ]
  },
  {
   "cell_type": "code",
   "execution_count": 6,
   "id": "86cebfb6",
   "metadata": {},
   "outputs": [
    {
     "ename": "ImportError",
     "evalue": "cannot import name 'XGBСlassifier' from 'xgboost' (C:\\Users\\MyWork\\AppData\\Local\\Programs\\Python\\Python311\\Lib\\site-packages\\xgboost\\__init__.py)",
     "output_type": "error",
     "traceback": [
      "\u001b[1;31m---------------------------------------------------------------------------\u001b[0m",
      "\u001b[1;31mImportError\u001b[0m                               Traceback (most recent call last)",
      "Cell \u001b[1;32mIn[6], line 3\u001b[0m\n\u001b[0;32m      1\u001b[0m \u001b[38;5;66;03m# XGBoost   \u001b[39;00m\n\u001b[1;32m----> 3\u001b[0m \u001b[38;5;28;01mfrom\u001b[39;00m \u001b[38;5;21;01mxgboost\u001b[39;00m \u001b[38;5;28;01mimport\u001b[39;00m XGBСlassifier\n\u001b[0;32m      4\u001b[0m model_XGB_Clf \u001b[38;5;241m=\u001b[39m XGBClassifier(booster\u001b[38;5;241m=\u001b[39m\u001b[38;5;124m'\u001b[39m\u001b[38;5;124mgblinear\u001b[39m\u001b[38;5;124m'\u001b[39m, learning_rate\u001b[38;5;241m=\u001b[39m\u001b[38;5;241m0.02\u001b[39m, n_estimators\u001b[38;5;241m=\u001b[39m\u001b[38;5;241m10\u001b[39m, random_state\u001b[38;5;241m=\u001b[39m\u001b[38;5;241m1\u001b[39m)\n\u001b[0;32m      5\u001b[0m model_XGB_Clf\u001b[38;5;241m.\u001b[39mfit(X_train, y_train)\n",
      "\u001b[1;31mImportError\u001b[0m: cannot import name 'XGBСlassifier' from 'xgboost' (C:\\Users\\MyWork\\AppData\\Local\\Programs\\Python\\Python311\\Lib\\site-packages\\xgboost\\__init__.py)"
     ]
    }
   ],
   "source": [
    "# XGBoost   \n",
    "\n",
    "from xgboost import XGBСlassifier\n",
    "model_XGB_Clf = XGBClassifier(booster='gblinear', learning_rate=0.02, n_estimators=10, random_state=1)\n",
    "model_XGB_Clf.fit(X_train, y_train)\n",
    "print(model_XGB_Clf.score(X_test, y_test))"
   ]
  },
  {
   "cell_type": "code",
   "execution_count": null,
   "id": "2cb7a5ff",
   "metadata": {},
   "outputs": [],
   "source": []
  }
 ],
 "metadata": {
  "kernelspec": {
   "display_name": "Python 3 (ipykernel)",
   "language": "python",
   "name": "python3"
  },
  "language_info": {
   "codemirror_mode": {
    "name": "ipython",
    "version": 3
   },
   "file_extension": ".py",
   "mimetype": "text/x-python",
   "name": "python",
   "nbconvert_exporter": "python",
   "pygments_lexer": "ipython3",
   "version": "3.11.1"
  }
 },
 "nbformat": 4,
 "nbformat_minor": 5
}
